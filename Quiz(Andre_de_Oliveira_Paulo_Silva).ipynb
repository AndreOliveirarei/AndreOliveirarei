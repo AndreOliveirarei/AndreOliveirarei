{
  "cells": [
    {
      "cell_type": "markdown",
      "metadata": {
        "id": "view-in-github",
        "colab_type": "text"
      },
      "source": [
        "<a href=\"https://colab.research.google.com/github/AndreOliveirarei/AndreOliveirarei/blob/main/Quiz(Andre_de_Oliveira_Paulo_Silva).ipynb\" target=\"_parent\"><img src=\"https://colab.research.google.com/assets/colab-badge.svg\" alt=\"Open In Colab\"/></a>"
      ]
    },
    {
      "cell_type": "code",
      "execution_count": null,
      "metadata": {
        "colab": {
          "background_save": true,
          "base_uri": "https://localhost:8080/"
        },
        "id": "QVPBz1OtbjQq",
        "outputId": "40c71307-01a7-4d9c-a776-d945538fb96e"
      },
      "outputs": [
        {
          "name": "stdout",
          "output_type": "stream",
          "text": [
            "PERGUNTAS, ALTERNATIVAS E RESPOSTA CORRETA PARA O QUIZ\n",
            "\n",
            "Qual símbolo é usado para comentários de uma linha em Python?\n",
            "a) //\n",
            "b) #\n",
            "c) /*\n",
            "d) --\n",
            "\n",
            "Resposta certa!\n",
            "\n",
            "Qual função é usada para imprimir texto na tela em Python?\n",
            "a) show()\n",
            "b) display()\n",
            "c) console.log()\n",
            "d) print()\n",
            "\n",
            "Resposta certa!\n",
            "\n",
            "Qual estrutura de dados em Python é mais semelhante a um array em outras linguagens?\n",
            "a) Tupla\n",
            "b) Dicionário\n",
            "c) Lista\n",
            "d) Set\n",
            "\n"
          ]
        }
      ],
      "source": [
        "#atividade nome André de Oliveira Paulo Silva\n",
        "\n",
        "\n",
        "\n",
        "\n",
        "perguntas = {\n",
        "    'Questão 01': {\n",
        "        'pergunta': 'Qual símbolo é usado para comentários de uma linha em Python?',\n",
        "        'respostas': {\n",
        "            'a': '//',\n",
        "            'b': '#',\n",
        "            'c': '/*',\n",
        "            'd': '--'\n",
        "        },\n",
        "        'resposta_certa': 'b'\n",
        "    },\n",
        "    'Questão 02': {\n",
        "        'pergunta': 'Qual função é usada para imprimir texto na tela em Python?',\n",
        "        'respostas': {\n",
        "            'a': 'show()',\n",
        "            'b': 'display()',\n",
        "            'c': 'console.log()',\n",
        "            'd': 'print()'\n",
        "        },\n",
        "        'resposta_certa': 'd'\n",
        "    },\n",
        "    'Questão 03': {\n",
        "        'pergunta': 'Qual estrutura de dados em Python é mais semelhante a um array em outras linguagens?',\n",
        "        'respostas': {\n",
        "            'a': 'Tupla',\n",
        "            'b': 'Dicionário',\n",
        "            'c': 'Lista',\n",
        "            'd': 'Set'\n",
        "        },\n",
        "        'resposta_certa': 'c'\n",
        "    },\n",
        "    'Questão 04': {\n",
        "        'pergunta': 'Qual palavra-chave é usada para definir uma função em Python?',\n",
        "        'respostas': {\n",
        "            'a': 'function',\n",
        "            'b': 'def',\n",
        "            'c': 'func',\n",
        "            'd': 'define'\n",
        "        },\n",
        "        'resposta_certa': 'b'\n",
        "    },\n",
        "    'Questão 05': {\n",
        "        'pergunta': 'Qual operador é usado para verificar igualdade em Python?',\n",
        "        'respostas': {\n",
        "            'a': '=',\n",
        "            'b': '===',\n",
        "            'c': '==',\n",
        "            'd': '.equals()'\n",
        "        },\n",
        "        'resposta_certa': 'c'\n",
        "    }\n",
        "}\n",
        "\n",
        "print(\"PERGUNTAS, ALTERNATIVAS E RESPOSTA CORRETA PARA O QUIZ\\n\")\n",
        "respostas_certas = 0\n",
        "\n",
        "for pk, pv in perguntas.items():\n",
        "    print(f'{pv[\"pergunta\"]}')\n",
        "    for rk, rv in pv['respostas'].items():\n",
        "        print(f'{rk}) {rv}')\n",
        "    print()\n",
        "\n",
        "    resposta_user = input('Sua resposta: ')\n",
        "    if resposta_user.lower() == pv['resposta_certa']:\n",
        "        print('Resposta certa!')\n",
        "        respostas_certas += 1\n",
        "    else:\n",
        "        print('Você errou!')\n",
        "    print()\n",
        "\n",
        "qtd_perguntas = len(perguntas)\n",
        "percentual = respostas_certas / qtd_perguntas * 100\n",
        "\n",
        "print(f\"Você acertou {respostas_certas} respostas.\")\n",
        "print(f'Sua porcentagem de acerto foi {percentual:.2f}%')"
      ]
    }
  ],
  "metadata": {
    "colab": {
      "provenance": [],
      "authorship_tag": "ABX9TyMkDk8Yqq8DhK2mvogidFFS",
      "include_colab_link": true
    },
    "kernelspec": {
      "display_name": "Python 3",
      "name": "python3"
    },
    "language_info": {
      "name": "python"
    }
  },
  "nbformat": 4,
  "nbformat_minor": 0
}